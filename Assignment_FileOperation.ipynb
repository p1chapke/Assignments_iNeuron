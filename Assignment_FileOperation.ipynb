{
 "cells": [
  {
   "cell_type": "code",
   "execution_count": 1,
   "id": "f929cf9c",
   "metadata": {},
   "outputs": [],
   "source": [
    "f = open('example.txt','w')\n",
    "f.write('String - This is a Placement Assignment.\\n\\n')\n",
    "f = open('example.txt','r')\n",
    "f.close()\n",
    "\n",
    "\n",
    "with open('example.txt', 'r+') as f:\n",
    "    f1 = f.read()\n",
    "    replace_string = f1.replace(\"Placement\", \"Screening\")\n",
    "    f.write(replace_string)\n",
    "    f.close()"
   ]
  },
  {
   "cell_type": "code",
   "execution_count": null,
   "id": "1065d50d",
   "metadata": {},
   "outputs": [],
   "source": []
  }
 ],
 "metadata": {
  "kernelspec": {
   "display_name": "Python 3",
   "language": "python",
   "name": "python3"
  },
  "language_info": {
   "codemirror_mode": {
    "name": "ipython",
    "version": 3
   },
   "file_extension": ".py",
   "mimetype": "text/x-python",
   "name": "python",
   "nbconvert_exporter": "python",
   "pygments_lexer": "ipython3",
   "version": "3.8.8"
  }
 },
 "nbformat": 4,
 "nbformat_minor": 5
}

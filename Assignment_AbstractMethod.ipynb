{
 "cells": [
  {
   "cell_type": "code",
   "execution_count": null,
   "id": "a13a6a09",
   "metadata": {},
   "outputs": [],
   "source": []
  },
  {
   "cell_type": "code",
   "execution_count": 3,
   "id": "61620f8e",
   "metadata": {},
   "outputs": [
    {
     "data": {
      "text/plain": [
       "'\\nAbstract Class:\\n\\nWe can call Abstract Class as a Blueprint of other trailing classes in the program.\\nIt helps creating set of methods that could be used in the child classes.\\nIt consists only declaration but not any kind of implementation.\\n\\nThis can be of great use while we work in large teams and have multiple stake holders where keeping all classes in mind is difficult.\\n\\n'"
      ]
     },
     "execution_count": 3,
     "metadata": {},
     "output_type": "execute_result"
    }
   ],
   "source": [
    "'''\n",
    "Abstract Class:\n",
    "\n",
    "We can call Abstract Class as a Blueprint of other trailing classes in the program.\n",
    "It helps creating set of methods that could be used in the child classes.\n",
    "It consists only declaration but not any kind of implementation.\n",
    "\n",
    "This can be of great use while we work in large teams and have multiple stake holders where keeping all classes in mind is difficult.\n",
    "\n",
    "'''"
   ]
  },
  {
   "cell_type": "code",
   "execution_count": 4,
   "id": "360c638d",
   "metadata": {},
   "outputs": [],
   "source": [
    "from abc import ABC, abstractmethod\n",
    " \n",
    "class Car(ABC):\n",
    " \n",
    "    @abstractmethod\n",
    "    def kind_of_car(self):\n",
    "        pass\n",
    " \n",
    "class Tata(Car):\n",
    "    def kind_of_car(self):\n",
    "        print(\"Tata is Famous for SUVs\")\n",
    " \n",
    "class Mahindra(Car):\n",
    "    def kind_of_car(self):\n",
    "        print(\"Mahindra is Famous for Commercial Vehicles\")\n",
    " \n",
    "class Maruti_Suzuki(Car):\n",
    "    def kind_of_car(self):\n",
    "        print(\"Maruti Suzuki is Famous for Affordable Cars\")\n",
    " \n",
    "class Hyundai(Car):\n",
    "    def kind_of_car(self):\n",
    "        print(\"Hyundai is Famous for Hatchbacks\")"
   ]
  },
  {
   "cell_type": "code",
   "execution_count": 10,
   "id": "2a8ff7d2",
   "metadata": {},
   "outputs": [
    {
     "name": "stdout",
     "output_type": "stream",
     "text": [
      "Tata is Famous for SUVs\n"
     ]
    }
   ],
   "source": [
    "p = Tata()\n",
    "p.kind_of_car()"
   ]
  },
  {
   "cell_type": "code",
   "execution_count": 11,
   "id": "c075c0c2",
   "metadata": {},
   "outputs": [
    {
     "name": "stdout",
     "output_type": "stream",
     "text": [
      "Mahindra is Famous for Commercial Vehicles\n"
     ]
    }
   ],
   "source": [
    "p = Mahindra()\n",
    "p.kind_of_car()"
   ]
  },
  {
   "cell_type": "code",
   "execution_count": 12,
   "id": "f01c422a",
   "metadata": {},
   "outputs": [
    {
     "name": "stdout",
     "output_type": "stream",
     "text": [
      "Maruti Suzuki is Famous for Affordable Cars\n"
     ]
    }
   ],
   "source": [
    "p = Maruti_Suzuki()\n",
    "p.kind_of_car()"
   ]
  },
  {
   "cell_type": "code",
   "execution_count": 13,
   "id": "1a81020a",
   "metadata": {},
   "outputs": [
    {
     "name": "stdout",
     "output_type": "stream",
     "text": [
      "Hyundai is Famous for Hatchbacks\n"
     ]
    }
   ],
   "source": [
    "p = Hyundai()\n",
    "p.kind_of_car()"
   ]
  },
  {
   "cell_type": "code",
   "execution_count": null,
   "id": "64c609cc",
   "metadata": {},
   "outputs": [],
   "source": []
  }
 ],
 "metadata": {
  "kernelspec": {
   "display_name": "Python 3",
   "language": "python",
   "name": "python3"
  },
  "language_info": {
   "codemirror_mode": {
    "name": "ipython",
    "version": 3
   },
   "file_extension": ".py",
   "mimetype": "text/x-python",
   "name": "python",
   "nbconvert_exporter": "python",
   "pygments_lexer": "ipython3",
   "version": "3.8.8"
  }
 },
 "nbformat": 4,
 "nbformat_minor": 5
}

{
 "cells": [
  {
   "cell_type": "code",
   "execution_count": null,
   "id": "521a361f",
   "metadata": {},
   "outputs": [],
   "source": [
    "\"\"\"\n",
    "When a child class inherit from two or more base classes, then it is multiple inheritance.\n",
    "\n",
    "Child class can claim all the properties and methods of parent classes.\n",
    "\n",
    "\"\"\""
   ]
  },
  {
   "cell_type": "code",
   "execution_count": 40,
   "id": "fdca9d49",
   "metadata": {},
   "outputs": [],
   "source": [
    "class salestargets(object):\n",
    "    def __init__(self, gross_margin, ebit_value, no_of_units):\n",
    "        self.gross_margin = gross_margin\n",
    "        self.ebit_value = ebit_value\n",
    "        self.no_of_units = no_of_units\n",
    "\n",
    "class salesteam(object):\n",
    "    def __init__(self, team_leader, asst_manager, sales_executives):\n",
    "        self.team_leader = team_leader\n",
    "        self.asst_manager = asst_manager\n",
    "        self.sales_executives = sales_executives\n",
    "        \n",
    "class branch_target_team(salestargets, salesteam):\n",
    "    def __init__(self,gross_margin,ebit_value,no_of_units,branch,team_leader, asst_manager, sales_executives):\n",
    "        self.branch = branch\n",
    "        salestargets.__init__(self, gross_margin,ebit_value,no_of_units)\n",
    "        salesteam.__init__(self,team_leader, asst_manager, sales_executives)\n",
    "        \n",
    "        print(\"Sales Targets\\n Gross Margin: {}%\\n EBIT Value: {}%\\n Number of Units: {}\\n\\nBranch Name: {}\\n Team Leaders: {}\\n Asst. Managers: {}\\n Sales Executives: {}. \".format(self.gross_margin,self.ebit_value,self.no_of_units,self.branch,self.team_leader,self.asst_manager,self.sales_executives))        "
   ]
  },
  {
   "cell_type": "code",
   "execution_count": 41,
   "id": "98d6766d",
   "metadata": {},
   "outputs": [
    {
     "name": "stdout",
     "output_type": "stream",
     "text": [
      "Sales Targets\n",
      " Gross Margin: 1.5%\n",
      " EBIT Value: 10%\n",
      " Number of Units: 350\n",
      "\n",
      "Branch Name: Pune\n",
      " Team Leaders: 1\n",
      " Asst. Managers: 2\n",
      " Sales Executives: 3. \n"
     ]
    }
   ],
   "source": [
    "Print = branch_target_team(1.5,10,350,'Pune',1,2,3)"
   ]
  },
  {
   "cell_type": "code",
   "execution_count": null,
   "id": "3225ef3e",
   "metadata": {},
   "outputs": [],
   "source": []
  },
  {
   "cell_type": "code",
   "execution_count": null,
   "id": "698eebe6",
   "metadata": {},
   "outputs": [],
   "source": []
  },
  {
   "cell_type": "code",
   "execution_count": null,
   "id": "081f176d",
   "metadata": {},
   "outputs": [],
   "source": []
  },
  {
   "cell_type": "code",
   "execution_count": null,
   "id": "2b389330",
   "metadata": {},
   "outputs": [],
   "source": []
  },
  {
   "cell_type": "code",
   "execution_count": null,
   "id": "78e95f25",
   "metadata": {},
   "outputs": [],
   "source": []
  },
  {
   "cell_type": "code",
   "execution_count": null,
   "id": "dcf930d5",
   "metadata": {},
   "outputs": [],
   "source": []
  },
  {
   "cell_type": "code",
   "execution_count": null,
   "id": "55a4e01c",
   "metadata": {},
   "outputs": [],
   "source": []
  },
  {
   "cell_type": "code",
   "execution_count": null,
   "id": "bc3732e4",
   "metadata": {},
   "outputs": [],
   "source": []
  },
  {
   "cell_type": "code",
   "execution_count": null,
   "id": "763e902c",
   "metadata": {},
   "outputs": [],
   "source": []
  }
 ],
 "metadata": {
  "kernelspec": {
   "display_name": "Python 3",
   "language": "python",
   "name": "python3"
  },
  "language_info": {
   "codemirror_mode": {
    "name": "ipython",
    "version": 3
   },
   "file_extension": ".py",
   "mimetype": "text/x-python",
   "name": "python",
   "nbconvert_exporter": "python",
   "pygments_lexer": "ipython3",
   "version": "3.8.8"
  }
 },
 "nbformat": 4,
 "nbformat_minor": 5
}

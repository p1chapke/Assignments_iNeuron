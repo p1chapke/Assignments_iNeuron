{
 "cells": [
  {
   "cell_type": "code",
   "execution_count": 1,
   "id": "54f52937",
   "metadata": {},
   "outputs": [
    {
     "data": {
      "text/plain": [
       "'\\n\\nDecorator is used when we require to change the behavior of a function without modifying the function itself. \\nfor example logging, test performance, perform caching, verify permissions etc.\\n\\nDecorators can also be used when we need to run same code on multiple funstions and eventually avoids writing duplicating code.\\n\\n\\n'"
      ]
     },
     "execution_count": 1,
     "metadata": {},
     "output_type": "execute_result"
    }
   ],
   "source": [
    "\"\"\"\n",
    "\n",
    "Decorator is used when we require to change the behavior of a function without modifying the function itself. \n",
    "for example logging, test performance, perform caching, verify permissions etc.\n",
    "\n",
    "Decorators can also be used when we need to run same code on multiple funstions and eventually avoids writing duplicating code.\n",
    "\n",
    "\n",
    "\"\"\""
   ]
  },
  {
   "cell_type": "code",
   "execution_count": 5,
   "id": "2a6a2236",
   "metadata": {},
   "outputs": [
    {
     "name": "stdout",
     "output_type": "stream",
     "text": [
      "Function: daily_backup \n",
      "Run on: 2022-06-09 17:16:23 \n",
      "______________________________\n",
      "Daily backup job is finished.\n"
     ]
    }
   ],
   "source": [
    "from datetime import datetime\n",
    "\n",
    "def log_datetime(func):\n",
    "    def wrapper():\n",
    "        print(f'Function: {func.__name__} \\nRun on: {datetime.today().strftime(\"%Y-%m-%d %H:%M:%S\")} ')\n",
    "        print(f'{\"_\"*30}')\n",
    "        func()\n",
    "    return wrapper\n",
    "\n",
    "@log_datetime\n",
    "def daily_backup():\n",
    "    print('Daily backup job is finished.')\n",
    "\n",
    "\n",
    "daily_backup()"
   ]
  },
  {
   "cell_type": "code",
   "execution_count": null,
   "id": "91790bff",
   "metadata": {},
   "outputs": [],
   "source": []
  },
  {
   "cell_type": "code",
   "execution_count": null,
   "id": "25b5f050",
   "metadata": {},
   "outputs": [],
   "source": [
    "\n"
   ]
  }
 ],
 "metadata": {
  "kernelspec": {
   "display_name": "Python 3",
   "language": "python",
   "name": "python3"
  },
  "language_info": {
   "codemirror_mode": {
    "name": "ipython",
    "version": 3
   },
   "file_extension": ".py",
   "mimetype": "text/x-python",
   "name": "python",
   "nbconvert_exporter": "python",
   "pygments_lexer": "ipython3",
   "version": "3.8.8"
  }
 },
 "nbformat": 4,
 "nbformat_minor": 5
}
